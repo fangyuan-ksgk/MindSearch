{
 "cells": [
  {
   "cell_type": "code",
   "execution_count": 4,
   "metadata": {},
   "outputs": [
    {
     "name": "stdout",
     "output_type": "stream",
     "text": [
      "<html>Hello, Erik!</html>\n"
     ]
    }
   ],
   "source": [
    "# Directly Call the Modal served API Endpoint \n",
    "\n",
    "import requests\n",
    "\n",
    "data = {\"name\": \"Erik\", \"qty\": 10}\n",
    "url_endpoint = \"https://fangyuan-ksgk--test-api-py-f-dev.modal.run\"\n",
    "response = requests.post(url_endpoint, json=data, timeout=10.0)\n",
    "\n",
    "# Yeeee, API Endpoint from Modal working here (!)\n",
    "\n",
    "print(response.text)\n"
   ]
  },
  {
   "cell_type": "code",
   "execution_count": null,
   "metadata": {},
   "outputs": [],
   "source": []
  }
 ],
 "metadata": {
  "kernelspec": {
   "display_name": "base",
   "language": "python",
   "name": "python3"
  },
  "language_info": {
   "codemirror_mode": {
    "name": "ipython",
    "version": 3
   },
   "file_extension": ".py",
   "mimetype": "text/x-python",
   "name": "python",
   "nbconvert_exporter": "python",
   "pygments_lexer": "ipython3",
   "version": "3.11.5"
  }
 },
 "nbformat": 4,
 "nbformat_minor": 2
}
